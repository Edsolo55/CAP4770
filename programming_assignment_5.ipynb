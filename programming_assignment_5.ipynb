{
  "cells": [
    {
      "cell_type": "markdown",
      "metadata": {
        "id": "view-in-github",
        "colab_type": "text"
      },
      "source": [
        "<a href=\"https://colab.research.google.com/github/Edsolo55/Edwin_01.ipynb/blob/main/programming_assignment_5.ipynb\" target=\"_parent\"><img src=\"https://colab.research.google.com/assets/colab-badge.svg\" alt=\"Open In Colab\"/></a>"
      ]
    },
    {
      "cell_type": "markdown",
      "id": "940d65bc-011d-4762-8f7c-d628f2a81bcd",
      "metadata": {
        "id": "940d65bc-011d-4762-8f7c-d628f2a81bcd"
      },
      "source": [
        "# Programming Assignment #5"
      ]
    },
    {
      "cell_type": "markdown",
      "id": "60ccdfcc-83fa-4eb2-a3b7-9671f72157e8",
      "metadata": {
        "id": "60ccdfcc-83fa-4eb2-a3b7-9671f72157e8"
      },
      "source": [
        "## Association rule mining\n",
        "\n",
        "The market basket transactions dataset (transactions_data.txt)contains list of items purchased by customer in each transaction.\n",
        "\n",
        "- load the transaction dataset file\n",
        "- use minimum support = 0.2 and use_colname=True in apriori method\n",
        "- select metric as confidence in association rules\n",
        "- use minimum threshold = 0.5\n",
        "\n",
        "Ex: If the minimum support is 0.4, the metric is confidence and minimum threshold is 0.5 then some of the outputs are:\n",
        "- the least frequency of frequent 1-itemset is ['Queso'].\n",
        "- the support, confidence, and lift of rule, ['Queso'] -> ['Tortilla chips'] are:\n",
        "  - consequent support = 0.7\n",
        "  - support = 0.4\n",
        "  - confidence = 1.00\n",
        "  - lift = 1.42"
      ]
    },
    {
      "cell_type": "code",
      "execution_count": 4,
      "id": "eef59b37-5429-42b9-a45c-56ad45a7968c",
      "metadata": {
        "colab": {
          "base_uri": "https://localhost:8080/"
        },
        "id": "eef59b37-5429-42b9-a45c-56ad45a7968c",
        "outputId": "7059a6ed-669d-4fcd-a621-781b06c96900"
      },
      "outputs": [
        {
          "output_type": "stream",
          "name": "stdout",
          "text": [
            "Frequent Itemsets:\n",
            "    support                        itemsets\n",
            "0       0.2                     (Guacamole)\n",
            "1       0.2                    (Pita chips)\n",
            "2       0.4                         (Queso)\n",
            "3       0.3                     (Ranch dip)\n",
            "4       0.6                         (Salsa)\n",
            "5       0.7                (Tortilla chips)\n",
            "6       0.2     (Tortilla chips, Guacamole)\n",
            "7       0.3                  (Queso, Salsa)\n",
            "8       0.4         (Tortilla chips, Queso)\n",
            "9       0.5         (Tortilla chips, Salsa)\n",
            "10      0.3  (Tortilla chips, Salsa, Queso)\n",
            "\n",
            "Association Rules:\n",
            "                antecedents              consequents  antecedent support  \\\n",
            "0               (Guacamole)         (Tortilla chips)                 0.2   \n",
            "1                   (Queso)                  (Salsa)                 0.4   \n",
            "2                   (Salsa)                  (Queso)                 0.6   \n",
            "3          (Tortilla chips)                  (Queso)                 0.7   \n",
            "4                   (Queso)         (Tortilla chips)                 0.4   \n",
            "5          (Tortilla chips)                  (Salsa)                 0.7   \n",
            "6                   (Salsa)         (Tortilla chips)                 0.6   \n",
            "7   (Tortilla chips, Salsa)                  (Queso)                 0.5   \n",
            "8   (Tortilla chips, Queso)                  (Salsa)                 0.4   \n",
            "9            (Queso, Salsa)         (Tortilla chips)                 0.3   \n",
            "10                  (Salsa)  (Tortilla chips, Queso)                 0.6   \n",
            "11                  (Queso)  (Tortilla chips, Salsa)                 0.4   \n",
            "\n",
            "    consequent support  support  confidence      lift  leverage  conviction  \\\n",
            "0                  0.7      0.2    1.000000  1.428571      0.06         inf   \n",
            "1                  0.6      0.3    0.750000  1.250000      0.06         1.6   \n",
            "2                  0.4      0.3    0.500000  1.250000      0.06         1.2   \n",
            "3                  0.4      0.4    0.571429  1.428571      0.12         1.4   \n",
            "4                  0.7      0.4    1.000000  1.428571      0.12         inf   \n",
            "5                  0.6      0.5    0.714286  1.190476      0.08         1.4   \n",
            "6                  0.7      0.5    0.833333  1.190476      0.08         1.8   \n",
            "7                  0.4      0.3    0.600000  1.500000      0.10         1.5   \n",
            "8                  0.6      0.3    0.750000  1.250000      0.06         1.6   \n",
            "9                  0.7      0.3    1.000000  1.428571      0.09         inf   \n",
            "10                 0.4      0.3    0.500000  1.250000      0.06         1.2   \n",
            "11                 0.5      0.3    0.750000  1.500000      0.10         2.0   \n",
            "\n",
            "    zhangs_metric  \n",
            "0        0.375000  \n",
            "1        0.333333  \n",
            "2        0.500000  \n",
            "3        1.000000  \n",
            "4        0.500000  \n",
            "5        0.533333  \n",
            "6        0.400000  \n",
            "7        0.666667  \n",
            "8        0.333333  \n",
            "9        0.428571  \n",
            "10       0.500000  \n",
            "11       0.555556  \n"
          ]
        },
        {
          "output_type": "stream",
          "name": "stderr",
          "text": [
            "/usr/local/lib/python3.10/dist-packages/ipykernel/ipkernel.py:283: DeprecationWarning: `should_run_async` will not call `transform_cell` automatically in the future. Please pass the result to `transformed_cell` argument and any exception that happen during thetransform in `preprocessing_exc_tuple` in IPython 7.17 and above.\n",
            "  and should_run_async(code)\n"
          ]
        }
      ],
      "source": [
        "# Import the necessary packages\n",
        "import numpy as np\n",
        "import pandas as pd\n",
        "from mlxtend.preprocessing import TransactionEncoder\n",
        "from mlxtend.frequent_patterns import apriori, association_rules\n",
        "\n",
        "# Loading the data\n",
        "def load_dataset(path_to_data):\n",
        "    transactions = []\n",
        "    with open(path_to_data, 'r') as fid:\n",
        "        for line in fid:\n",
        "            # Split each line into items and strip whitespace\n",
        "            transaction = line.strip().split(',')\n",
        "            transactions.append(transaction)\n",
        "    return transactions\n",
        "\n",
        "# Set the path to the data file\n",
        "path_to_data = \"transactions_data.txt\"\n",
        "dataset = load_dataset(path_to_data)\n",
        "\n",
        "# Transform the data to a format suitable for the apriori function\n",
        "te = TransactionEncoder()\n",
        "te_ary = te.fit(dataset).transform(dataset)\n",
        "df = pd.DataFrame(te_ary, columns=te.columns_)\n",
        "\n",
        "# Apply the apriori algorithm with a minimum support threshold, e.g., 0.2\n",
        "frequent_itemsets = apriori(df, min_support=0.2, use_colnames=True)\n",
        "print(\"Frequent Itemsets:\")\n",
        "print(frequent_itemsets)\n",
        "\n",
        "# Generate the association rules with a minimum confidence threshold, e.g., 0.5\n",
        "rules = association_rules(frequent_itemsets, metric=\"confidence\", min_threshold=0.5)\n",
        "print(\"\\nAssociation Rules:\")\n",
        "print(rules)\n"
      ]
    }
  ],
  "metadata": {
    "kernelspec": {
      "display_name": "Python 3 (ipykernel)",
      "language": "python",
      "name": "python3"
    },
    "language_info": {
      "codemirror_mode": {
        "name": "ipython",
        "version": 3
      },
      "file_extension": ".py",
      "mimetype": "text/x-python",
      "name": "python",
      "nbconvert_exporter": "python",
      "pygments_lexer": "ipython3",
      "version": "3.12.4"
    },
    "colab": {
      "provenance": [],
      "include_colab_link": true
    }
  },
  "nbformat": 4,
  "nbformat_minor": 5
}