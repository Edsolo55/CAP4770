{
  "metadata": {
    "kernelspec": {
      "name": "python",
      "display_name": "Python (Pyodide)",
      "language": "python"
    },
    "language_info": {
      "codemirror_mode": {
        "name": "python",
        "version": 3
      },
      "file_extension": ".py",
      "mimetype": "text/x-python",
      "name": "python",
      "nbconvert_exporter": "python",
      "pygments_lexer": "ipython3",
      "version": "3.8"
    }
  },
  "nbformat_minor": 5,
  "nbformat": 4,
  "cells": [
    {
      "id": "9662031c-8c25-4e4b-9d63-acf29b0c8449",
      "cell_type": "markdown",
      "source": "# 1. Programming Assignment: Python Basics ",
      "metadata": {}
    },
    {
      "id": "2a3984d6-14e0-446f-9229-02e10050d983",
      "cell_type": "markdown",
      "source": "## List basics",
      "metadata": {}
    },
    {
      "id": "a72259ab-5b16-4dab-be0e-fde298033b6b",
      "cell_type": "markdown",
      "source": "Given the user inputs, complete a program that does the following tasks:\n\n- Define a list, myList, containing the user inputs myFlower1, myFlower2, and myFlower3 in the same order.\n- Define a list, yourList, containing the user inputs yourFlower1 and yourFlower2 in the same order.\n- Define a list, ourList, by concatenating myList and yourList.\n- Append the user input theirFlower to the end of ourList.\n- Replace myFlower2 in ourList with theirFlower.\n- Remove the third element of ourList.\n\nObserve the output of each print statement carefully to understand what was done by each task of the program.\n\nEx: If the input is:\n\n    rose\n    peony\n    lily\n    rose\n    daisy\n    aster\nthe output is:\n    \n    ['rose', 'peony', 'lily']\n    ['rose', 'daisy']\n    ['rose', 'peony', 'lily', 'rose', 'daisy']\n    ['rose', 'peony', 'lily', 'rose', 'daisy', 'aster']\n    ['rose', 'aster', 'lily', 'rose', 'daisy', 'aster']\n    ['rose', 'aster', 'rose', 'daisy', 'aster']",
      "metadata": {}
    },
    {
      "id": "6b3e3e84-cb5e-4ead-bfb4-e1d295f0cdcf",
      "cell_type": "code",
      "source": "myFlower1 = \"Rose\"\nmyFlower2 = \"Lily\"\nmyFlower3 = \"Tulip\"\n\nyourFlower1 = \"Daisy\"\nyourFlower2 = \"Sunflower\"\n\ntheirFlower = \"Orchid\"\n\n# Define myList containing myFlower1, myFlower2, and myFlower3 in that order\nmyList = [myFlower1, myFlower2, myFlower3]\nprint(\"myList:\", myList)\n\n# Define yourList containing yourFlower1 and yourFlower2 in that order\nyourList = [yourFlower1, yourFlower2]\nprint(\"yourList:\", yourList)\n\n# Define ourList by concatenating myList and yourList\nourList = myList + yourList\nprint(\"ourList (after concatenation):\", ourList)\n\n# Append theirFlower to the end of ourList\nourList.append(theirFlower)\nprint(\"ourList (after appending theirFlower):\", ourList)\n\n# Replace myFlower2 in ourList with theirFlower\nourList[1] = theirFlower\nprint(\"ourList (after replacing myFlower2 with theirFlower):\", ourList)\n\n# Remove the third element of ourList\ndel ourList[2]\nprint(\"ourList (after removing the third element):\", ourList)",
      "metadata": {
        "trusted": true
      },
      "outputs": [
        {
          "name": "stdout",
          "text": "myList: ['Rose', 'Lily', 'Tulip']\nyourList: ['Daisy', 'Sunflower']\nourList (after concatenation): ['Rose', 'Lily', 'Tulip', 'Daisy', 'Sunflower']\nourList (after appending theirFlower): ['Rose', 'Lily', 'Tulip', 'Daisy', 'Sunflower', 'Orchid']\nourList (after replacing myFlower2 with theirFlower): ['Rose', 'Orchid', 'Tulip', 'Daisy', 'Sunflower', 'Orchid']\nourList (after removing the third element): ['Rose', 'Orchid', 'Daisy', 'Sunflower', 'Orchid']\n",
          "output_type": "stream"
        }
      ],
      "execution_count": 1
    },
    {
      "id": "1668da6e-e02b-4786-a998-bb57e820723b",
      "cell_type": "code",
      "source": "",
      "metadata": {},
      "outputs": [],
      "execution_count": null
    },
    {
      "id": "5b9e31d0-1171-4316-a9fc-8082007a7108",
      "cell_type": "code",
      "source": "",
      "metadata": {},
      "outputs": [],
      "execution_count": null
    },
    {
      "id": "5c9fe6ee-1fd0-4d5e-911b-d7090d16e3cb",
      "cell_type": "markdown",
      "source": "## Set basics ",
      "metadata": {}
    },
    {
      "id": "672fa2b5-dd57-4557-8135-89bc8fbc9ed5",
      "cell_type": "markdown",
      "source": "\nGiven the user inputs, complete a program that does the following tasks:\n\n- Define a set, fruits, containing the user inputs myFruit1, myFruit2, and myFruit3.\n- Add the user input theirFruit to fruits.\n- Find the intersection of fruits and yourFruit1 and yourFruit2\n- Remove myFruit1 from fruits.\nNote: For testing purposes, sets are printed using sorted() for comparison.\n\nEx: If the input is:\n\n    apple\n    peach\n    lemon\n    apple\n    pear\n    plum\n\nthe output is:\n\n    ['apple', 'lemon', 'peach']\n    ['apple', 'lemon', 'peach', 'plum']\n    ['apple']\n    ['lemon', 'peach', 'plum']",
      "metadata": {}
    },
    {
      "id": "b20f3db1-4112-4a3c-b889-8a1d5bf8f807",
      "cell_type": "code",
      "source": "# Collect inputs for fruits\nmyFruit1 = \"apple\"\nmyFruit2 = \"banana\"\nmyFruit3 = \"cherry\"\n\n# Collect inputs for comparison fruits\nyourFruit1 = \"sapota\"\nyourFruit2 = \"orange\"\n\n# Collect input for the fruit to add\ntheirFruit = \"litchi\"\n\n# Define a set, fruits, containing myFruit1, myFruit2, and myFruit3\nfruits = {myFruit1, myFruit2, myFruit3}\nprint(\"fruits (initial):\", sorted(fruits))\n\n# Add theirFruit to fruits\nfruits.add(theirFruit)\nprint(\"fruits (after adding theirFruit):\", sorted(fruits))\n\n# Find the intersection of fruits, and yourFruit1 and yourFruit2\nfruitsInter = fruits.intersection({yourFruit1, yourFruit2})\nprint(\"Intersection with your fruits:\", sorted(fruitsInter))\n\n# Remove myFruit1 from fruits\nfruits.discard(myFruit1)  # Using discard to avoid errors if myFruit1 is not in the set\nprint(\"fruits (after removing myFruit1):\", sorted(fruits))\n",
      "metadata": {
        "trusted": true
      },
      "outputs": [
        {
          "name": "stdout",
          "text": "fruits (initial): ['apple', 'banana', 'cherry']\nfruits (after adding theirFruit): ['apple', 'banana', 'cherry', 'litchi']\nIntersection with your fruits: []\nfruits (after removing myFruit1): ['banana', 'cherry', 'litchi']\n",
          "output_type": "stream"
        }
      ],
      "execution_count": 3
    }
  ]
}